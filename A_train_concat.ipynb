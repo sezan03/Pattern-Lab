{
 "metadata": {
  "language_info": {
   "codemirror_mode": {
    "name": "ipython",
    "version": 3
   },
   "file_extension": ".py",
   "mimetype": "text/x-python",
   "name": "python",
   "nbconvert_exporter": "python",
   "pygments_lexer": "ipython3",
   "version": "3.8.3-final"
  },
  "orig_nbformat": 2,
  "kernelspec": {
   "name": "python3",
   "display_name": "Python 3.8.3 64-bit",
   "metadata": {
    "interpreter": {
     "hash": "4447cc7378cf30879333494e5d460e5c62c12902847286c87503f98d25a71d26"
    }
   }
  }
 },
 "nbformat": 4,
 "nbformat_minor": 2,
 "cells": [
  {
   "cell_type": "code",
   "execution_count": 2,
   "metadata": {},
   "outputs": [],
   "source": [
    "import numpy as np\n",
    "import pandas as pd"
   ]
  },
  {
   "cell_type": "code",
   "execution_count": 5,
   "metadata": {
    "tags": []
   },
   "outputs": [
    {
     "output_type": "stream",
     "name": "stdout",
     "text": [
      "[131, 131]\n"
     ]
    }
   ],
   "source": [
    "no_of_rows = []\n",
    "feature_name = [\"NA_test.npy\",\"PA_test.npy\"]\n",
    "for f_name in feature_name:\n",
    "  A_test = np.load(f_name)\n",
    "  no_of_rows.append(A_test.shape[0])\n",
    "print(no_of_rows)"
   ]
  },
  {
   "cell_type": "code",
   "execution_count": 15,
   "metadata": {
    "tags": []
   },
   "outputs": [
    {
     "output_type": "stream",
     "name": "stdout",
     "text": [
      "{'NA_test.npy': [0, 130], 'PA_test.npy': [131, 261]}\n"
     ]
    }
   ],
   "source": [
    "index_dict = {}\n",
    "track = 0\n",
    "for i,f_name in enumerate(feature_name):\n",
    "  l = [track, track+no_of_rows[i]-1]\n",
    "  track = track + no_of_rows[i]\n",
    "  index_dict[f_name] = l\n",
    "print(index_dict)"
   ]
  },
  {
   "cell_type": "code",
   "execution_count": 17,
   "metadata": {},
   "outputs": [
    {
     "output_type": "stream",
     "name": "stdout",
     "text": [
      "(262, 2716)\n[[ 0.          0.          0.         ... -0.15847195 -0.32163458\n  -0.0546072 ]\n [ 0.          0.          0.         ...  0.48817917 -0.00631307\n  -0.08547176]\n [ 0.          1.          0.         ... -0.37829837  0.0171382\n  -0.03271554]\n ...\n [ 0.          0.          1.         ...  0.02674862 -0.03187092\n   0.33628834]\n [ 1.          0.          0.         ...  0.06212885  0.19609373\n   0.1673012 ]\n [ 0.          0.          0.         ... -0.36903734 -0.45842537\n  -0.59037134]]\n"
     ]
    }
   ],
   "source": [
    "A_test_concat = np.concatenate((np.load(feature_name[0]),np.load(feature_name[1])), axis=0)\n",
    "print(A_test_concat.shape)\n",
    "print(A_test_concat)"
   ]
  },
  {
   "cell_type": "code",
   "execution_count": 18,
   "metadata": {},
   "outputs": [
    {
     "output_type": "stream",
     "name": "stdout",
     "text": [
      "[[ 0.          0.          0.         ... -0.15847195 -0.32163458\n  -0.0546072 ]\n [ 0.          0.          0.         ...  0.48817917 -0.00631307\n  -0.08547176]\n [ 0.          1.          0.         ... -0.37829837  0.0171382\n  -0.03271554]\n ...\n [ 0.          0.          1.         ...  0.02674862 -0.03187092\n   0.33628834]\n [ 1.          0.          0.         ...  0.06212885  0.19609373\n   0.1673012 ]\n [ 0.          0.          0.         ... -0.36903734 -0.45842537\n  -0.59037134]]\n"
     ]
    }
   ],
   "source": [
    "print(A_test_concat)\n",
    "np.save(\"A_test.npy\",A_test_concat)"
   ]
  },
  {
   "cell_type": "code",
   "execution_count": 19,
   "metadata": {},
   "outputs": [],
   "source": [
    "output_file = open(\"A_test_index.txt\", \"w\")\n",
    "output_file.write(\"{'NA_test.npy': [0, 130], 'PA_test.npy': [131, 261]}\")\n",
    "output_file.close()"
   ]
  },
  {
   "cell_type": "code",
   "execution_count": null,
   "metadata": {},
   "outputs": [],
   "source": []
  }
 ]
}