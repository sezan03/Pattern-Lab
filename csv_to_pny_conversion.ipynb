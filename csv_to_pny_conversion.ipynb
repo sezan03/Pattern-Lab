{
 "metadata": {
  "language_info": {
   "codemirror_mode": {
    "name": "ipython",
    "version": 3
   },
   "file_extension": ".py",
   "mimetype": "text/x-python",
   "name": "python",
   "nbconvert_exporter": "python",
   "pygments_lexer": "ipython3",
   "version": "3.8.3-final"
  },
  "orig_nbformat": 2,
  "kernelspec": {
   "name": "python3",
   "display_name": "Python 3.8.3 64-bit",
   "metadata": {
    "interpreter": {
     "hash": "4447cc7378cf30879333494e5d460e5c62c12902847286c87503f98d25a71d26"
    }
   }
  }
 },
 "nbformat": 4,
 "nbformat_minor": 2,
 "cells": [
  {
   "cell_type": "code",
   "execution_count": 3,
   "metadata": {},
   "outputs": [],
   "source": [
    "import pandas as pd\n",
    "import numpy as np\n",
    "\n",
    "location1=input(\"Enter the path of csv file:\")\n",
    "data = pd.read_csv(location1) \n",
    "# Preview the first 5 lines of the loaded data \n",
    "# data.head()\n",
    "\n",
    "data.drop(['1'], axis = 1, inplace = True) \n",
    "#data.head()\n",
    "\n",
    "#data.to_csv('Extracted/test.csv',index=False)\n",
    "npy=data.to_numpy()\n",
    "# type(npy)\n",
    "location2=input(\"Enter the path to create npy file:\")\n",
    "np.save(location2,npy)"
   ]
  },
  {
   "cell_type": "code",
   "execution_count": null,
   "metadata": {},
   "outputs": [],
   "source": []
  }
 ]
}