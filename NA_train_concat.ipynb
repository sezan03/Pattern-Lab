{
 "metadata": {
  "language_info": {
   "codemirror_mode": {
    "name": "ipython",
    "version": 3
   },
   "file_extension": ".py",
   "mimetype": "text/x-python",
   "name": "python",
   "nbconvert_exporter": "python",
   "pygments_lexer": "ipython3",
   "version": "3.8.3-final"
  },
  "orig_nbformat": 2,
  "kernelspec": {
   "name": "python3",
   "display_name": "Python 3.8.3 64-bit",
   "metadata": {
    "interpreter": {
     "hash": "4447cc7378cf30879333494e5d460e5c62c12902847286c87503f98d25a71d26"
    }
   }
  }
 },
 "nbformat": 4,
 "nbformat_minor": 2,
 "cells": [
  {
   "cell_type": "code",
   "execution_count": 1,
   "metadata": {},
   "outputs": [],
   "source": [
    "import numpy as np\n",
    "import pandas as pd"
   ]
  },
  {
   "cell_type": "code",
   "execution_count": 2,
   "metadata": {
    "tags": []
   },
   "outputs": [
    {
     "output_type": "stream",
     "name": "stdout",
     "text": [
      "[164, 32, 32, 32, 32, 32, 42, 41, 4, 20, 84, 340, 1364, 123, 64, 148, 148, 14]\n"
     ]
    }
   ],
   "source": [
    "no_of_features = []\n",
    "feature_name = [\"NA_train_binary.npy\",\"NA_train_CKSNAP_gap-1.npy\",\"NA_train_CKSNAP_gap-3.npy\",\"NA_train_CKSNAP_gap-5.npy\",\"NA_train_CKSNAP_gap-7.npy\",\"NA_train_CKSNAP_gap-9.npy\",\"NA_train_DAC_lag-7.npy\",\"NA_train_EIIP.npy\",\"NA_train_kmer-1.npy\", \"NA_train_kmer-2.npy\",\"NA_train_kmer-3.npy\",\"NA_train_kmer-4.npy\",\"NA_train_kmer-5.npy\",\"NA_train_NCP.npy\",\"NA_train_PseEIIP.npy\",\"NA_train_slwindow-5.npy\",\"NA_train_slwindow-10.npy\",\"NA_train_TAC_lag-7.npy\"]\n",
    "for f_name in feature_name:\n",
    "  NA_train = np.load(f_name)\n",
    "  no_of_features.append(NA_train.shape[1])\n",
    "print(no_of_features)"
   ]
  },
  {
   "cell_type": "code",
   "execution_count": 3,
   "metadata": {
    "tags": []
   },
   "outputs": [
    {
     "output_type": "stream",
     "name": "stdout",
     "text": [
      "{'NA_train_binary.npy': [0, 163], 'NA_train_CKSNAP_gap-1.npy': [164, 195], 'NA_train_CKSNAP_gap-3.npy': [196, 227], 'NA_train_CKSNAP_gap-5.npy': [228, 259], 'NA_train_CKSNAP_gap-7.npy': [260, 291], 'NA_train_CKSNAP_gap-9.npy': [292, 323], 'NA_train_DAC_lag-7.npy': [324, 365], 'NA_train_EIIP.npy': [366, 406], 'NA_train_kmer-1.npy': [407, 410], 'NA_train_kmer-2.npy': [411, 430], 'NA_train_kmer-3.npy': [431, 514], 'NA_train_kmer-4.npy': [515, 854], 'NA_train_kmer-5.npy': [855, 2218], 'NA_train_NCP.npy': [2219, 2341], 'NA_train_PseEIIP.npy': [2342, 2405], 'NA_train_slwindow-5.npy': [2406, 2553], 'NA_train_slwindow-10.npy': [2554, 2701], 'NA_train_TAC_lag-7.npy': [2702, 2715]}\n"
     ]
    }
   ],
   "source": [
    "index_dict = {}\n",
    "track = 0\n",
    "for i,f_name in enumerate(feature_name):\n",
    "  l = [track, track+no_of_features[i]-1]\n",
    "  track = track + no_of_features[i]\n",
    "  index_dict[f_name] = l\n",
    "print(index_dict)"
   ]
  },
  {
   "cell_type": "code",
   "execution_count": 5,
   "metadata": {},
   "outputs": [
    {
     "output_type": "stream",
     "name": "stdout",
     "text": [
      "(1845, 2716)\n[[ 0.          0.          1.         ...  0.19677886  0.11647322\n  -0.15412019]\n [ 0.          1.          0.         ...  0.23456291  0.02208742\n  -0.16800463]\n [ 0.          1.          0.         ...  0.10865803 -0.06546402\n  -0.0560769 ]\n ...\n [ 0.          1.          0.         ... -0.15824865  0.03583532\n  -0.16912415]\n [ 0.          1.          0.         ... -0.21144131  0.00143822\n   0.35962513]\n [ 0.          0.          1.         ... -0.10435339  0.2668037\n  -0.3170361 ]]\n"
     ]
    }
   ],
   "source": [
    "NA_train_concat = np.concatenate((np.load(feature_name[0]),np.load(feature_name[1]),np.load(feature_name[2]),np.load(feature_name[3]),np.load(feature_name[4]),np.load(feature_name[5]),np.load(feature_name[6]),np.load(feature_name[7]),np.load(feature_name[8]),np.load(feature_name[9]),np.load(feature_name[10]),np.load(feature_name[11]),np.load(feature_name[12]),np.load(feature_name[13]),np.load(feature_name[14]),np.load(feature_name[15]),np.load(feature_name[16]),np.load(feature_name[17])), axis=1)\n",
    "print(NA_train_concat.shape)\n",
    "print(NA_train_concat)"
   ]
  },
  {
   "cell_type": "code",
   "execution_count": 7,
   "metadata": {},
   "outputs": [
    {
     "output_type": "stream",
     "name": "stdout",
     "text": [
      "[[ 0.          0.          1.         ...  0.19677886  0.11647322\n  -0.15412019]\n [ 0.          1.          0.         ...  0.23456291  0.02208742\n  -0.16800463]\n [ 0.          1.          0.         ...  0.10865803 -0.06546402\n  -0.0560769 ]\n ...\n [ 0.          1.          0.         ... -0.15824865  0.03583532\n  -0.16912415]\n [ 0.          1.          0.         ... -0.21144131  0.00143822\n   0.35962513]\n [ 0.          0.          1.         ... -0.10435339  0.2668037\n  -0.3170361 ]]\n"
     ]
    }
   ],
   "source": [
    "print(NA_train_concat)\n",
    "np.save(\"NA_train.npy\",NA_train_concat)"
   ]
  },
  {
   "cell_type": "code",
   "execution_count": 1,
   "metadata": {},
   "outputs": [],
   "source": [
    "output_file = open(\"NA_train_index.txt\", \"w\")\n",
    "output_file.write(\"{'NA_train_binary.npy': [0, 163], 'NA_train_CKSNAP_gap-1.npy': [164, 195], 'NA_train_CKSNAP_gap-3.npy': [196, 227], 'NA_train_CKSNAP_gap-5.npy': [228, 259], 'NA_train_CKSNAP_gap-7.npy': [260, 291], 'NA_train_CKSNAP_gap-9.npy': [292, 323], 'NA_train_DAC_lag-7.npy': [324, 365], 'NA_train_EIIP.npy': [366, 406], 'NA_train_kmer-1.npy': [407, 410], 'NA_train_kmer-2.npy': [411, 430], 'NA_train_kmer-3.npy': [431, 514], 'NA_train_kmer-4.npy': [515, 854], 'NA_train_kmer-5.npy': [855, 2218], 'NA_train_NCP.npy': [2219, 2341], 'NA_train_PseEIIP.npy': [2342, 2405], 'NA_train_slwindow-5.npy': [2406, 2553], 'NA_train_slwindow-10.npy': [2554, 2701], 'NA_train_TAC_lag-7.npy': [2702, 2715]}\")\n",
    "output_file.close()"
   ]
  },
  {
   "cell_type": "code",
   "execution_count": null,
   "metadata": {},
   "outputs": [],
   "source": []
  }
 ]
}