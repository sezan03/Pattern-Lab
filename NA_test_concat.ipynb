{
 "metadata": {
  "language_info": {
   "codemirror_mode": {
    "name": "ipython",
    "version": 3
   },
   "file_extension": ".py",
   "mimetype": "text/x-python",
   "name": "python",
   "nbconvert_exporter": "python",
   "pygments_lexer": "ipython3",
   "version": "3.8.3-final"
  },
  "orig_nbformat": 2,
  "kernelspec": {
   "name": "python3",
   "display_name": "Python 3.8.3 64-bit",
   "metadata": {
    "interpreter": {
     "hash": "4447cc7378cf30879333494e5d460e5c62c12902847286c87503f98d25a71d26"
    }
   }
  }
 },
 "nbformat": 4,
 "nbformat_minor": 2,
 "cells": [
  {
   "cell_type": "code",
   "execution_count": 1,
   "metadata": {},
   "outputs": [],
   "source": [
    "import numpy as np\n",
    "import pandas as pd"
   ]
  },
  {
   "cell_type": "code",
   "execution_count": 2,
   "metadata": {
    "tags": []
   },
   "outputs": [
    {
     "output_type": "stream",
     "name": "stdout",
     "text": [
      "[164, 32, 32, 32, 32, 32, 42, 41, 4, 20, 84, 340, 1364, 123, 64, 148, 148, 14]\n"
     ]
    }
   ],
   "source": [
    "no_of_features = []\n",
    "feature_name = [\"NA_test_binary.npy\",\"NA_test_CKSNAP_gap-1.npy\",\"NA_test_CKSNAP_gap-3.npy\",\"NA_test_CKSNAP_gap-5.npy\",\"NA_test_CKSNAP_gap-7.npy\",\"NA_test_CKSNAP_gap-9.npy\",\"NA_test_DAC_lag-7.npy\",\"NA_test_EIIP.npy\",\"NA_test_kmer-1.npy\", \"NA_test_kmer-2.npy\",\"NA_test_kmer-3.npy\",\"NA_test_kmer-4.npy\",\"NA_test_kmer-5.npy\",\"NA_test_NCP.npy\",\"NA_test_PseEIIP.npy\",\"NA_test_slwindow-5.npy\",\"NA_test_slwindow-10.npy\",\"NA_test_TAC_lag-7.npy\"]\n",
    "for f_name in feature_name:\n",
    "  NA_test = np.load(f_name)\n",
    "  no_of_features.append(NA_test.shape[1])\n",
    "print(no_of_features)"
   ]
  },
  {
   "cell_type": "code",
   "execution_count": 3,
   "metadata": {
    "tags": []
   },
   "outputs": [
    {
     "output_type": "stream",
     "name": "stdout",
     "text": [
      "{'NA_test_binary.npy': [0, 163], 'NA_test_CKSNAP_gap-1.npy': [164, 195], 'NA_test_CKSNAP_gap-3.npy': [196, 227], 'NA_test_CKSNAP_gap-5.npy': [228, 259], 'NA_test_CKSNAP_gap-7.npy': [260, 291], 'NA_test_CKSNAP_gap-9.npy': [292, 323], 'NA_test_DAC_lag-7.npy': [324, 365], 'NA_test_EIIP.npy': [366, 406], 'NA_test_kmer-1.npy': [407, 410], 'NA_test_kmer-2.npy': [411, 430], 'NA_test_kmer-3.npy': [431, 514], 'NA_test_kmer-4.npy': [515, 854], 'NA_test_kmer-5.npy': [855, 2218], 'NA_test_NCP.npy': [2219, 2341], 'NA_test_PseEIIP.npy': [2342, 2405], 'NA_test_slwindow-5.npy': [2406, 2553], 'NA_test_slwindow-10.npy': [2554, 2701], 'NA_test_TAC_lag-7.npy': [2702, 2715]}\n"
     ]
    }
   ],
   "source": [
    "index_dict = {}\n",
    "track = 0\n",
    "for i,f_name in enumerate(feature_name):\n",
    "  l = [track, track+no_of_features[i]-1]\n",
    "  track = track + no_of_features[i]\n",
    "  index_dict[f_name] = l\n",
    "print(index_dict)"
   ]
  },
  {
   "cell_type": "code",
   "execution_count": 13,
   "metadata": {},
   "outputs": [
    {
     "output_type": "stream",
     "name": "stdout",
     "text": [
      "(131, 2716)\n[[ 0.          0.          0.         ... -0.15847195 -0.32163458\n  -0.0546072 ]\n [ 0.          0.          0.         ...  0.48817917 -0.00631307\n  -0.08547176]\n [ 0.          1.          0.         ... -0.37829837  0.0171382\n  -0.03271554]\n ...\n [ 0.          0.          0.         ... -0.12815134  0.08835941\n  -0.59096016]\n [ 0.          0.          0.         ...  0.03806696  0.04034145\n  -0.54607601]\n [ 1.          0.          0.         ... -0.01527812 -0.11158138\n   0.22535211]]\n"
     ]
    }
   ],
   "source": [
    "NA_test_concat = np.concatenate((np.load(feature_name[0]),np.load(feature_name[1]),np.load(feature_name[2]),np.load(feature_name[3]),np.load(feature_name[4]),np.load(feature_name[5]),np.load(feature_name[6]),np.load(feature_name[7]),np.load(feature_name[8]),np.load(feature_name[9]),np.load(feature_name[10]),np.load(feature_name[11]),np.load(feature_name[12]),np.load(feature_name[13]),np.load(feature_name[14]),np.load(feature_name[15]),np.load(feature_name[16]),np.load(feature_name[17])), axis=1)\n",
    "print(NA_test_concat.shape)\n",
    "print(NA_test_concat)"
   ]
  },
  {
   "cell_type": "code",
   "execution_count": 16,
   "metadata": {},
   "outputs": [
    {
     "output_type": "stream",
     "name": "stdout",
     "text": [
      "[[ 0.          0.          0.         ... -0.15847195 -0.32163458\n  -0.0546072 ]\n [ 0.          0.          0.         ...  0.48817917 -0.00631307\n  -0.08547176]\n [ 0.          1.          0.         ... -0.37829837  0.0171382\n  -0.03271554]\n ...\n [ 0.          0.          0.         ... -0.12815134  0.08835941\n  -0.59096016]\n [ 0.          0.          0.         ...  0.03806696  0.04034145\n  -0.54607601]\n [ 1.          0.          0.         ... -0.01527812 -0.11158138\n   0.22535211]]\n"
     ]
    }
   ],
   "source": [
    "print(NA_test_concat)\n",
    "np.save(\"NA_test.npy\",NA_test_concat)"
   ]
  },
  {
   "cell_type": "code",
   "execution_count": 8,
   "metadata": {},
   "outputs": [],
   "source": [
    "output_file = open(\"NA_test_index.txt\", \"w\")\n",
    "output_file.write(\"{'NA_test_binary.npy': [0, 163], 'NA_test_CKSNAP_gap-1.npy': [164, 195], 'NA_test_CKSNAP_gap-3.npy': [196, 227], 'NA_test_CKSNAP_gap-5.npy': [228, 259], 'NA_test_CKSNAP_gap-7.npy': [260, 291], 'NA_test_CKSNAP_gap-9.npy': [292, 323], 'NA_test_DAC_lag-7.npy': [324, 365], 'NA_test_EIIP.npy': [366, 406], 'NA_test_kmer-1.npy': [407, 410], 'NA_test_kmer-2.npy': [411, 430], 'NA_test_kmer-3.npy': [431, 514], 'NA_test_kmer-4.npy': [515, 854], 'NA_test_kmer-5.npy': [855, 2218], 'NA_test_NCP.npy': [2219, 2341], 'NA_test_PseEIIP.npy': [2342, 2405], 'NA_test_slwindow-5.npy': [2406, 2553], 'NA_test_slwindow-10.npy': [2554, 2701], 'NA_test_TAC_lag-7.npy': [2702, 2715]}\")\n",
    "output_file.close()"
   ]
  },
  {
   "cell_type": "code",
   "execution_count": null,
   "metadata": {},
   "outputs": [],
   "source": []
  }
 ]
}