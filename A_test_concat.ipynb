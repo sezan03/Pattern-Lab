{
 "metadata": {
  "language_info": {
   "codemirror_mode": {
    "name": "ipython",
    "version": 3
   },
   "file_extension": ".py",
   "mimetype": "text/x-python",
   "name": "python",
   "nbconvert_exporter": "python",
   "pygments_lexer": "ipython3",
   "version": "3.8.3-final"
  },
  "orig_nbformat": 2,
  "kernelspec": {
   "name": "python3",
   "display_name": "Python 3.8.3 64-bit",
   "metadata": {
    "interpreter": {
     "hash": "4447cc7378cf30879333494e5d460e5c62c12902847286c87503f98d25a71d26"
    }
   }
  }
 },
 "nbformat": 4,
 "nbformat_minor": 2,
 "cells": [
  {
   "cell_type": "code",
   "execution_count": 13,
   "metadata": {},
   "outputs": [],
   "source": [
    "import numpy as np\n",
    "import pandas as pd"
   ]
  },
  {
   "cell_type": "code",
   "execution_count": 19,
   "metadata": {
    "tags": []
   },
   "outputs": [
    {
     "output_type": "stream",
     "name": "stdout",
     "text": [
      "[1845, 1845]\n"
     ]
    }
   ],
   "source": [
    "no_of_rows = []\n",
    "feature_name = [\"NA_train.npy\",\"PA_train.npy\"]\n",
    "for f_name in feature_name:\n",
    "  A_train = np.load(f_name)\n",
    "  no_of_rows.append(A_train.shape[0])\n",
    "print(no_of_rows)"
   ]
  },
  {
   "cell_type": "code",
   "execution_count": 21,
   "metadata": {
    "tags": []
   },
   "outputs": [
    {
     "output_type": "stream",
     "name": "stdout",
     "text": [
      "{'NA_train.npy': [0, 1844], 'PA_train.npy': [1845, 3689]}\n"
     ]
    }
   ],
   "source": [
    "index_dict = {}\n",
    "track = 0\n",
    "for i,f_name in enumerate(feature_name):\n",
    "  l = [track, track+no_of_rows[i]-1]\n",
    "  track = track + no_of_rows[i]\n",
    "  index_dict[f_name] = l\n",
    "print(index_dict)"
   ]
  },
  {
   "cell_type": "code",
   "execution_count": 22,
   "metadata": {},
   "outputs": [
    {
     "output_type": "stream",
     "name": "stdout",
     "text": [
      "(3690, 2716)\n[[ 0.          0.          1.         ...  0.19677886  0.11647322\n  -0.15412019]\n [ 0.          1.          0.         ...  0.23456291  0.02208742\n  -0.16800463]\n [ 0.          1.          0.         ...  0.10865803 -0.06546402\n  -0.0560769 ]\n ...\n [ 0.          0.          1.         ...  0.02584185 -0.17733257\n   0.09688572]\n [ 0.          1.          0.         ...  0.07435924 -0.19278483\n  -0.13817938]\n [ 0.          0.          1.         ... -0.17193338 -0.23865962\n  -0.40251052]]\n"
     ]
    }
   ],
   "source": [
    "A_train_concat = np.concatenate((np.load(feature_name[0]),np.load(feature_name[1])), axis=0)\n",
    "print(A_train_concat.shape)\n",
    "print(A_train_concat)"
   ]
  },
  {
   "cell_type": "code",
   "execution_count": 23,
   "metadata": {},
   "outputs": [
    {
     "output_type": "stream",
     "name": "stdout",
     "text": [
      "[[ 0.          0.          1.         ...  0.19677886  0.11647322\n  -0.15412019]\n [ 0.          1.          0.         ...  0.23456291  0.02208742\n  -0.16800463]\n [ 0.          1.          0.         ...  0.10865803 -0.06546402\n  -0.0560769 ]\n ...\n [ 0.          0.          1.         ...  0.02584185 -0.17733257\n   0.09688572]\n [ 0.          1.          0.         ...  0.07435924 -0.19278483\n  -0.13817938]\n [ 0.          0.          1.         ... -0.17193338 -0.23865962\n  -0.40251052]]\n"
     ]
    }
   ],
   "source": [
    "print(A_train_concat)\n",
    "np.save(\"A_train.npy\",A_train_concat)"
   ]
  },
  {
   "cell_type": "code",
   "execution_count": 28,
   "metadata": {},
   "outputs": [],
   "source": [
    "output_file = open(\"A_train_index.txt\", \"w\")\n",
    "output_file.write(\"{'NA_train.npy': [0, 1844], 'PA_train.npy': [1845, 3689]}\")\n",
    "output_file.close()"
   ]
  },
  {
   "cell_type": "code",
   "execution_count": null,
   "metadata": {},
   "outputs": [],
   "source": []
  }
 ]
}