{
 "metadata": {
  "language_info": {
   "codemirror_mode": {
    "name": "ipython",
    "version": 3
   },
   "file_extension": ".py",
   "mimetype": "text/x-python",
   "name": "python",
   "nbconvert_exporter": "python",
   "pygments_lexer": "ipython3",
   "version": "3.8.3-final"
  },
  "orig_nbformat": 2,
  "kernelspec": {
   "name": "python3",
   "display_name": "Python 3.8.3 64-bit",
   "metadata": {
    "interpreter": {
     "hash": "4447cc7378cf30879333494e5d460e5c62c12902847286c87503f98d25a71d26"
    }
   }
  }
 },
 "nbformat": 4,
 "nbformat_minor": 2,
 "cells": [
  {
   "cell_type": "code",
   "execution_count": 1,
   "metadata": {},
   "outputs": [],
   "source": [
    "import numpy as np\n",
    "import pandas as pd"
   ]
  },
  {
   "cell_type": "code",
   "execution_count": 3,
   "metadata": {
    "tags": []
   },
   "outputs": [
    {
     "output_type": "stream",
     "name": "stdout",
     "text": [
      "[164, 32, 32, 32, 32, 32, 42, 41, 4, 20, 84, 340, 1364, 123, 64, 148, 148, 14]\n"
     ]
    }
   ],
   "source": [
    "no_of_features = []\n",
    "feature_name = [\"PA_test_binary.npy\",\"PA_test_CKSNAP_gap-1.npy\",\"PA_test_CKSNAP_gap-3.npy\",\"PA_test_CKSNAP_gap-5.npy\",\"PA_test_CKSNAP_gap-7.npy\",\"PA_test_CKSNAP_gap-9.npy\",\"PA_test_DAC_lag-7.npy\",\"PA_test_EIIP.npy\",\"PA_test_kmer-1.npy\", \"PA_test_kmer-2.npy\",\"PA_test_kmer-3.npy\",\"PA_test_kmer-4.npy\",\"PA_test_kmer-5.npy\",\"PA_test_NCP.npy\",\"PA_test_PseEIIP.npy\",\"PA_test_slwindow-5.npy\",\"PA_test_slwindow-10.npy\",\"PA_test_TAC_lag-7.npy\"]\n",
    "for f_name in feature_name:\n",
    "  PA_test = np.load(f_name)\n",
    "  no_of_features.append(PA_test.shape[1])\n",
    "print(no_of_features)"
   ]
  },
  {
   "cell_type": "code",
   "execution_count": 4,
   "metadata": {
    "tags": []
   },
   "outputs": [
    {
     "output_type": "stream",
     "name": "stdout",
     "text": [
      "{'PA_test_binary.npy': [0, 163], 'PA_test_CKSNAP_gap-1.npy': [164, 195], 'PA_test_CKSNAP_gap-3.npy': [196, 227], 'PA_test_CKSNAP_gap-5.npy': [228, 259], 'PA_test_CKSNAP_gap-7.npy': [260, 291], 'PA_test_CKSNAP_gap-9.npy': [292, 323], 'PA_test_DAC_lag-7.npy': [324, 365], 'PA_test_EIIP.npy': [366, 406], 'PA_test_kmer-1.npy': [407, 410], 'PA_test_kmer-2.npy': [411, 430], 'PA_test_kmer-3.npy': [431, 514], 'PA_test_kmer-4.npy': [515, 854], 'PA_test_kmer-5.npy': [855, 2218], 'PA_test_NCP.npy': [2219, 2341], 'PA_test_PseEIIP.npy': [2342, 2405], 'PA_test_slwindow-5.npy': [2406, 2553], 'PA_test_slwindow-10.npy': [2554, 2701], 'PA_test_TAC_lag-7.npy': [2702, 2715]}\n"
     ]
    }
   ],
   "source": [
    "index_dict = {}\n",
    "track = 0\n",
    "for i,f_name in enumerate(feature_name):\n",
    "  l = [track, track+no_of_features[i]-1]\n",
    "  track = track + no_of_features[i]\n",
    "  index_dict[f_name] = l\n",
    "print(index_dict)"
   ]
  },
  {
   "cell_type": "code",
   "execution_count": 5,
   "metadata": {},
   "outputs": [
    {
     "output_type": "stream",
     "name": "stdout",
     "text": [
      "(131, 2716)\n[[ 1.          0.          0.         ... -0.04626085 -0.13433368\n   0.05335096]\n [ 0.          0.          1.         ... -0.29536257  0.39786449\n  -0.08528186]\n [ 0.          0.          1.         ... -0.20371769 -0.0405962\n  -0.06797351]\n ...\n [ 0.          0.          1.         ...  0.02674862 -0.03187092\n   0.33628834]\n [ 1.          0.          0.         ...  0.06212885  0.19609373\n   0.1673012 ]\n [ 0.          0.          0.         ... -0.36903734 -0.45842537\n  -0.59037134]]\n"
     ]
    }
   ],
   "source": [
    "PA_test_concat = np.concatenate((np.load(feature_name[0]),np.load(feature_name[1]),np.load(feature_name[2]),np.load(feature_name[3]),np.load(feature_name[4]),np.load(feature_name[5]),np.load(feature_name[6]),np.load(feature_name[7]),np.load(feature_name[8]),np.load(feature_name[9]),np.load(feature_name[10]),np.load(feature_name[11]),np.load(feature_name[12]),np.load(feature_name[13]),np.load(feature_name[14]),np.load(feature_name[15]),np.load(feature_name[16]),np.load(feature_name[17])), axis=1)\n",
    "print(PA_test_concat.shape)\n",
    "print(PA_test_concat)"
   ]
  },
  {
   "cell_type": "code",
   "execution_count": 6,
   "metadata": {},
   "outputs": [
    {
     "output_type": "stream",
     "name": "stdout",
     "text": [
      "[[ 1.          0.          0.         ... -0.04626085 -0.13433368\n   0.05335096]\n [ 0.          0.          1.         ... -0.29536257  0.39786449\n  -0.08528186]\n [ 0.          0.          1.         ... -0.20371769 -0.0405962\n  -0.06797351]\n ...\n [ 0.          0.          1.         ...  0.02674862 -0.03187092\n   0.33628834]\n [ 1.          0.          0.         ...  0.06212885  0.19609373\n   0.1673012 ]\n [ 0.          0.          0.         ... -0.36903734 -0.45842537\n  -0.59037134]]\n"
     ]
    }
   ],
   "source": [
    "print(PA_test_concat)\n",
    "np.save(\"PA_test.npy\",PA_test_concat)"
   ]
  },
  {
   "cell_type": "code",
   "execution_count": 7,
   "metadata": {},
   "outputs": [],
   "source": [
    "output_file = open(\"PA_test_index.txt\", \"w\")\n",
    "output_file.write(\"{'PA_test_binary.npy': [0, 163], 'PA_test_CKSNAP_gap-1.npy': [164, 195], 'PA_test_CKSNAP_gap-3.npy': [196, 227], 'PA_test_CKSNAP_gap-5.npy': [228, 259], 'PA_test_CKSNAP_gap-7.npy': [260, 291], 'PA_test_CKSNAP_gap-9.npy': [292, 323], 'PA_test_DAC_lag-7.npy': [324, 365], 'PA_test_EIIP.npy': [366, 406], 'PA_test_kmer-1.npy': [407, 410], 'PA_test_kmer-2.npy': [411, 430], 'PA_test_kmer-3.npy': [431, 514], 'PA_test_kmer-4.npy': [515, 854], 'PA_test_kmer-5.npy': [855, 2218], 'PA_test_NCP.npy': [2219, 2341], 'PA_test_PseEIIP.npy': [2342, 2405], 'PA_test_slwindow-5.npy': [2406, 2553], 'PA_test_slwindow-10.npy': [2554, 2701], 'PA_test_TAC_lag-7.npy': [2702, 2715]}\")\n",
    "output_file.close()"
   ]
  },
  {
   "cell_type": "code",
   "execution_count": null,
   "metadata": {},
   "outputs": [],
   "source": []
  }
 ]
}